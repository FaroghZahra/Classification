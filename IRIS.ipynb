{
  "nbformat": 4,
  "nbformat_minor": 0,
  "metadata": {
    "colab": {
      "provenance": [],
      "authorship_tag": "ABX9TyOR9cmZaz/1+8RBw2J4rWzs",
      "include_colab_link": true
    },
    "kernelspec": {
      "name": "python3",
      "display_name": "Python 3"
    },
    "language_info": {
      "name": "python"
    }
  },
  "cells": [
    {
      "cell_type": "markdown",
      "metadata": {
        "id": "view-in-github",
        "colab_type": "text"
      },
      "source": [
        "<a href=\"https://colab.research.google.com/github/FaroghZahra/Classification/blob/main/IRIS.ipynb\" target=\"_parent\"><img src=\"https://colab.research.google.com/assets/colab-badge.svg\" alt=\"Open In Colab\"/></a>"
      ]
    },
    {
      "cell_type": "code",
      "source": [
        "import numpy as np"
      ],
      "metadata": {
        "id": "sHylplUHgFtF"
      },
      "execution_count": 2,
      "outputs": []
    },
    {
      "cell_type": "code",
      "source": [
        "#importing iris dataset\n",
        "from sklearn.datasets import load_iris"
      ],
      "metadata": {
        "id": "25JwJ5Upf50T"
      },
      "execution_count": 3,
      "outputs": []
    },
    {
      "cell_type": "code",
      "source": [
        "#loading iris dataset\n",
        "iris = load_iris()"
      ],
      "metadata": {
        "id": "I4-T-CW1gJwV"
      },
      "execution_count": 4,
      "outputs": []
    },
    {
      "cell_type": "code",
      "source": [
        "X = iris.data"
      ],
      "metadata": {
        "id": "lDYQEGwGgLux"
      },
      "execution_count": 5,
      "outputs": []
    },
    {
      "cell_type": "code",
      "source": [
        "y = iris.target\n",
        "print(y)"
      ],
      "metadata": {
        "colab": {
          "base_uri": "https://localhost:8080/"
        },
        "id": "Zd321xdpgNph",
        "outputId": "dffaf8cb-4955-439a-e704-788122f2d78f"
      },
      "execution_count": 6,
      "outputs": [
        {
          "output_type": "stream",
          "name": "stdout",
          "text": [
            "[0 0 0 0 0 0 0 0 0 0 0 0 0 0 0 0 0 0 0 0 0 0 0 0 0 0 0 0 0 0 0 0 0 0 0 0 0\n",
            " 0 0 0 0 0 0 0 0 0 0 0 0 0 1 1 1 1 1 1 1 1 1 1 1 1 1 1 1 1 1 1 1 1 1 1 1 1\n",
            " 1 1 1 1 1 1 1 1 1 1 1 1 1 1 1 1 1 1 1 1 1 1 1 1 1 1 2 2 2 2 2 2 2 2 2 2 2\n",
            " 2 2 2 2 2 2 2 2 2 2 2 2 2 2 2 2 2 2 2 2 2 2 2 2 2 2 2 2 2 2 2 2 2 2 2 2 2\n",
            " 2 2]\n"
          ]
        }
      ]
    },
    {
      "cell_type": "code",
      "source": [
        "#class 0 -->[1,0,0]\n",
        "#class 1 --->[0,1,0]\n",
        "#class 2 --->[0,0,1]\n",
        "\n",
        "#for 1 hot encoding"
      ],
      "metadata": {
        "id": "YL56b1ITgPsx"
      },
      "execution_count": 7,
      "outputs": []
    },
    {
      "cell_type": "code",
      "source": [
        "from keras.utils import to_categorical"
      ],
      "metadata": {
        "id": "DVDgiPXwgSiC"
      },
      "execution_count": 8,
      "outputs": []
    },
    {
      "cell_type": "code",
      "source": [
        "y = to_categorical(y)"
      ],
      "metadata": {
        "id": "yHA8aQnagZYF"
      },
      "execution_count": 9,
      "outputs": []
    },
    {
      "cell_type": "code",
      "source": [
        "y.shape\n",
        "y"
      ],
      "metadata": {
        "colab": {
          "base_uri": "https://localhost:8080/"
        },
        "id": "MYP6otAbgi_N",
        "outputId": "45bb9b25-fe7b-4fea-d1fc-d9b11a465a94"
      },
      "execution_count": 11,
      "outputs": [
        {
          "output_type": "execute_result",
          "data": {
            "text/plain": [
              "array([[1., 0., 0.],\n",
              "       [1., 0., 0.],\n",
              "       [1., 0., 0.],\n",
              "       [1., 0., 0.],\n",
              "       [1., 0., 0.],\n",
              "       [1., 0., 0.],\n",
              "       [1., 0., 0.],\n",
              "       [1., 0., 0.],\n",
              "       [1., 0., 0.],\n",
              "       [1., 0., 0.],\n",
              "       [1., 0., 0.],\n",
              "       [1., 0., 0.],\n",
              "       [1., 0., 0.],\n",
              "       [1., 0., 0.],\n",
              "       [1., 0., 0.],\n",
              "       [1., 0., 0.],\n",
              "       [1., 0., 0.],\n",
              "       [1., 0., 0.],\n",
              "       [1., 0., 0.],\n",
              "       [1., 0., 0.],\n",
              "       [1., 0., 0.],\n",
              "       [1., 0., 0.],\n",
              "       [1., 0., 0.],\n",
              "       [1., 0., 0.],\n",
              "       [1., 0., 0.],\n",
              "       [1., 0., 0.],\n",
              "       [1., 0., 0.],\n",
              "       [1., 0., 0.],\n",
              "       [1., 0., 0.],\n",
              "       [1., 0., 0.],\n",
              "       [1., 0., 0.],\n",
              "       [1., 0., 0.],\n",
              "       [1., 0., 0.],\n",
              "       [1., 0., 0.],\n",
              "       [1., 0., 0.],\n",
              "       [1., 0., 0.],\n",
              "       [1., 0., 0.],\n",
              "       [1., 0., 0.],\n",
              "       [1., 0., 0.],\n",
              "       [1., 0., 0.],\n",
              "       [1., 0., 0.],\n",
              "       [1., 0., 0.],\n",
              "       [1., 0., 0.],\n",
              "       [1., 0., 0.],\n",
              "       [1., 0., 0.],\n",
              "       [1., 0., 0.],\n",
              "       [1., 0., 0.],\n",
              "       [1., 0., 0.],\n",
              "       [1., 0., 0.],\n",
              "       [1., 0., 0.],\n",
              "       [0., 1., 0.],\n",
              "       [0., 1., 0.],\n",
              "       [0., 1., 0.],\n",
              "       [0., 1., 0.],\n",
              "       [0., 1., 0.],\n",
              "       [0., 1., 0.],\n",
              "       [0., 1., 0.],\n",
              "       [0., 1., 0.],\n",
              "       [0., 1., 0.],\n",
              "       [0., 1., 0.],\n",
              "       [0., 1., 0.],\n",
              "       [0., 1., 0.],\n",
              "       [0., 1., 0.],\n",
              "       [0., 1., 0.],\n",
              "       [0., 1., 0.],\n",
              "       [0., 1., 0.],\n",
              "       [0., 1., 0.],\n",
              "       [0., 1., 0.],\n",
              "       [0., 1., 0.],\n",
              "       [0., 1., 0.],\n",
              "       [0., 1., 0.],\n",
              "       [0., 1., 0.],\n",
              "       [0., 1., 0.],\n",
              "       [0., 1., 0.],\n",
              "       [0., 1., 0.],\n",
              "       [0., 1., 0.],\n",
              "       [0., 1., 0.],\n",
              "       [0., 1., 0.],\n",
              "       [0., 1., 0.],\n",
              "       [0., 1., 0.],\n",
              "       [0., 1., 0.],\n",
              "       [0., 1., 0.],\n",
              "       [0., 1., 0.],\n",
              "       [0., 1., 0.],\n",
              "       [0., 1., 0.],\n",
              "       [0., 1., 0.],\n",
              "       [0., 1., 0.],\n",
              "       [0., 1., 0.],\n",
              "       [0., 1., 0.],\n",
              "       [0., 1., 0.],\n",
              "       [0., 1., 0.],\n",
              "       [0., 1., 0.],\n",
              "       [0., 1., 0.],\n",
              "       [0., 1., 0.],\n",
              "       [0., 1., 0.],\n",
              "       [0., 1., 0.],\n",
              "       [0., 1., 0.],\n",
              "       [0., 1., 0.],\n",
              "       [0., 1., 0.],\n",
              "       [0., 1., 0.],\n",
              "       [0., 0., 1.],\n",
              "       [0., 0., 1.],\n",
              "       [0., 0., 1.],\n",
              "       [0., 0., 1.],\n",
              "       [0., 0., 1.],\n",
              "       [0., 0., 1.],\n",
              "       [0., 0., 1.],\n",
              "       [0., 0., 1.],\n",
              "       [0., 0., 1.],\n",
              "       [0., 0., 1.],\n",
              "       [0., 0., 1.],\n",
              "       [0., 0., 1.],\n",
              "       [0., 0., 1.],\n",
              "       [0., 0., 1.],\n",
              "       [0., 0., 1.],\n",
              "       [0., 0., 1.],\n",
              "       [0., 0., 1.],\n",
              "       [0., 0., 1.],\n",
              "       [0., 0., 1.],\n",
              "       [0., 0., 1.],\n",
              "       [0., 0., 1.],\n",
              "       [0., 0., 1.],\n",
              "       [0., 0., 1.],\n",
              "       [0., 0., 1.],\n",
              "       [0., 0., 1.],\n",
              "       [0., 0., 1.],\n",
              "       [0., 0., 1.],\n",
              "       [0., 0., 1.],\n",
              "       [0., 0., 1.],\n",
              "       [0., 0., 1.],\n",
              "       [0., 0., 1.],\n",
              "       [0., 0., 1.],\n",
              "       [0., 0., 1.],\n",
              "       [0., 0., 1.],\n",
              "       [0., 0., 1.],\n",
              "       [0., 0., 1.],\n",
              "       [0., 0., 1.],\n",
              "       [0., 0., 1.],\n",
              "       [0., 0., 1.],\n",
              "       [0., 0., 1.],\n",
              "       [0., 0., 1.],\n",
              "       [0., 0., 1.],\n",
              "       [0., 0., 1.],\n",
              "       [0., 0., 1.],\n",
              "       [0., 0., 1.],\n",
              "       [0., 0., 1.],\n",
              "       [0., 0., 1.],\n",
              "       [0., 0., 1.],\n",
              "       [0., 0., 1.],\n",
              "       [0., 0., 1.]], dtype=float32)"
            ]
          },
          "metadata": {},
          "execution_count": 11
        }
      ]
    },
    {
      "cell_type": "code",
      "source": [
        "from sklearn.model_selection import train_test_split\n",
        "\n",
        "X_train, X_test, y_train, y_test = train_test_split(X,y,test_size=0.30,random_state=42)"
      ],
      "metadata": {
        "id": "SycC7Jd-glb0"
      },
      "execution_count": 12,
      "outputs": []
    },
    {
      "cell_type": "code",
      "source": [
        "#scale network\n",
        "\n",
        "from sklearn.preprocessing import MinMaxScaler\n",
        "scaler_object = MinMaxScaler()\n",
        "scaler_object.fit(X_train)\n",
        "\n",
        "scaled_X_train = scaler_object.transform(X_train)\n",
        "scaled_X_test = scaler_object.transform(X_test)\n",
        "\n",
        "print(scaled_X_test)"
      ],
      "metadata": {
        "colab": {
          "base_uri": "https://localhost:8080/"
        },
        "id": "w4d2Tf27hTNg",
        "outputId": "091e0103-898d-4650-cc38-0ba84d81693c"
      },
      "execution_count": 15,
      "outputs": [
        {
          "output_type": "stream",
          "name": "stdout",
          "text": [
            "[[ 0.52941176  0.36363636  0.64285714  0.45833333]\n",
            " [ 0.41176471  0.81818182  0.10714286  0.08333333]\n",
            " [ 1.          0.27272727  1.03571429  0.91666667]\n",
            " [ 0.5         0.40909091  0.60714286  0.58333333]\n",
            " [ 0.73529412  0.36363636  0.66071429  0.54166667]\n",
            " [ 0.32352941  0.63636364  0.07142857  0.125     ]\n",
            " [ 0.38235294  0.40909091  0.44642857  0.5       ]\n",
            " [ 0.76470588  0.5         0.71428571  0.91666667]\n",
            " [ 0.55882353  0.09090909  0.60714286  0.58333333]\n",
            " [ 0.44117647  0.31818182  0.5         0.45833333]\n",
            " [ 0.64705882  0.54545455  0.71428571  0.79166667]\n",
            " [ 0.14705882  0.45454545  0.05357143  0.        ]\n",
            " [ 0.35294118  0.68181818  0.03571429  0.04166667]\n",
            " [ 0.17647059  0.5         0.07142857  0.        ]\n",
            " [ 0.23529412  0.81818182  0.07142857  0.08333333]\n",
            " [ 0.58823529  0.59090909  0.64285714  0.625     ]\n",
            " [ 0.64705882  0.45454545  0.83928571  0.875     ]\n",
            " [ 0.38235294  0.22727273  0.5         0.41666667]\n",
            " [ 0.41176471  0.36363636  0.60714286  0.5       ]\n",
            " [ 0.61764706  0.36363636  0.80357143  0.875     ]\n",
            " [ 0.11764706  0.54545455  0.08928571  0.04166667]\n",
            " [ 0.52941176  0.45454545  0.67857143  0.70833333]\n",
            " [ 0.20588235  0.63636364  0.08928571  0.125     ]\n",
            " [ 0.61764706  0.36363636  0.80357143  0.83333333]\n",
            " [ 1.05882353  0.81818182  0.94642857  0.79166667]\n",
            " [ 0.70588235  0.45454545  0.73214286  0.91666667]\n",
            " [ 0.70588235  0.22727273  0.83928571  0.70833333]\n",
            " [ 0.73529412  0.54545455  0.85714286  0.91666667]\n",
            " [ 0.14705882  0.45454545  0.05357143  0.08333333]\n",
            " [ 0.14705882  0.5         0.08928571  0.04166667]\n",
            " [ 0.08823529  0.72727273 -0.01785714  0.04166667]\n",
            " [ 0.41176471  1.09090909  0.07142857  0.125     ]\n",
            " [ 0.70588235  0.5         0.58928571  0.54166667]\n",
            " [ 0.14705882  0.63636364  0.08928571  0.04166667]\n",
            " [ 0.02941176  0.54545455  0.03571429  0.04166667]\n",
            " [ 0.58823529  0.22727273  0.69642857  0.75      ]\n",
            " [ 0.61764706  0.54545455  0.60714286  0.58333333]\n",
            " [ 0.26470588  0.68181818  0.07142857  0.04166667]\n",
            " [ 0.20588235  0.72727273  0.05357143  0.04166667]\n",
            " [ 0.26470588  0.95454545  0.07142857  0.        ]\n",
            " [ 0.44117647  0.31818182  0.71428571  0.75      ]\n",
            " [ 0.5         0.63636364  0.60714286  0.625     ]\n",
            " [ 0.70588235  0.5         0.64285714  0.58333333]\n",
            " [ 0.32352941  0.86363636  0.03571429  0.125     ]\n",
            " [ 0.32352941  0.77272727  0.07142857  0.04166667]]\n"
          ]
        }
      ]
    },
    {
      "cell_type": "code",
      "source": [
        "from keras.models import Sequential\n",
        "from keras.layers import Dense"
      ],
      "metadata": {
        "id": "havWb9yOiATJ"
      },
      "execution_count": 17,
      "outputs": []
    },
    {
      "cell_type": "code",
      "source": [
        "model = Sequential()\n",
        "model.add(Dense(8,input_dim=4,activation='relu'))\n",
        "model.add(Dense(8,input_dim=4,activation='relu'))\n",
        "model.add(Dense(3,activation='softmax'))\n",
        "model.compile(loss='categorical_crossentropy', optimizer='adam', metrics=['accuracy'])"
      ],
      "metadata": {
        "id": "yuCtlbkBjUxl"
      },
      "execution_count": 20,
      "outputs": []
    },
    {
      "cell_type": "code",
      "source": [
        "model.summary()"
      ],
      "metadata": {
        "colab": {
          "base_uri": "https://localhost:8080/"
        },
        "id": "lGDtuNsxlNFL",
        "outputId": "a5a42852-bc94-4439-fe79-6b10ee20129b"
      },
      "execution_count": 21,
      "outputs": [
        {
          "output_type": "stream",
          "name": "stdout",
          "text": [
            "Model: \"sequential_2\"\n",
            "_________________________________________________________________\n",
            " Layer (type)                Output Shape              Param #   \n",
            "=================================================================\n",
            " dense_5 (Dense)             (None, 8)                 40        \n",
            "                                                                 \n",
            " dense_6 (Dense)             (None, 8)                 72        \n",
            "                                                                 \n",
            " dense_7 (Dense)             (None, 3)                 27        \n",
            "                                                                 \n",
            "=================================================================\n",
            "Total params: 139\n",
            "Trainable params: 139\n",
            "Non-trainable params: 0\n",
            "_________________________________________________________________\n"
          ]
        }
      ]
    },
    {
      "cell_type": "code",
      "source": [
        "model.fit(scaled_X_train, y_train, epochs = 100, verbose=2)"
      ],
      "metadata": {
        "colab": {
          "base_uri": "https://localhost:8080/"
        },
        "id": "CwzojDtQlUCO",
        "outputId": "846b7618-fd4c-4224-bd61-af159a437296"
      },
      "execution_count": 42,
      "outputs": [
        {
          "output_type": "stream",
          "name": "stdout",
          "text": [
            "Epoch 1/100\n",
            "4/4 - 0s - loss: 0.3381 - accuracy: 0.9333 - 46ms/epoch - 11ms/step\n",
            "Epoch 2/100\n",
            "4/4 - 0s - loss: 0.3359 - accuracy: 0.9524 - 34ms/epoch - 9ms/step\n",
            "Epoch 3/100\n",
            "4/4 - 0s - loss: 0.3338 - accuracy: 0.9524 - 32ms/epoch - 8ms/step\n",
            "Epoch 4/100\n",
            "4/4 - 0s - loss: 0.3318 - accuracy: 0.9524 - 27ms/epoch - 7ms/step\n",
            "Epoch 5/100\n",
            "4/4 - 0s - loss: 0.3296 - accuracy: 0.9524 - 29ms/epoch - 7ms/step\n",
            "Epoch 6/100\n",
            "4/4 - 0s - loss: 0.3270 - accuracy: 0.9524 - 32ms/epoch - 8ms/step\n",
            "Epoch 7/100\n",
            "4/4 - 0s - loss: 0.3255 - accuracy: 0.9524 - 21ms/epoch - 5ms/step\n",
            "Epoch 8/100\n",
            "4/4 - 0s - loss: 0.3231 - accuracy: 0.9524 - 13ms/epoch - 3ms/step\n",
            "Epoch 9/100\n",
            "4/4 - 0s - loss: 0.3208 - accuracy: 0.9524 - 14ms/epoch - 4ms/step\n",
            "Epoch 10/100\n",
            "4/4 - 0s - loss: 0.3186 - accuracy: 0.9524 - 12ms/epoch - 3ms/step\n",
            "Epoch 11/100\n",
            "4/4 - 0s - loss: 0.3164 - accuracy: 0.9524 - 14ms/epoch - 4ms/step\n",
            "Epoch 12/100\n",
            "4/4 - 0s - loss: 0.3144 - accuracy: 0.9524 - 13ms/epoch - 3ms/step\n",
            "Epoch 13/100\n",
            "4/4 - 0s - loss: 0.3121 - accuracy: 0.9524 - 14ms/epoch - 3ms/step\n",
            "Epoch 14/100\n",
            "4/4 - 0s - loss: 0.3098 - accuracy: 0.9524 - 15ms/epoch - 4ms/step\n",
            "Epoch 15/100\n",
            "4/4 - 0s - loss: 0.3076 - accuracy: 0.9524 - 15ms/epoch - 4ms/step\n",
            "Epoch 16/100\n",
            "4/4 - 0s - loss: 0.3054 - accuracy: 0.9524 - 13ms/epoch - 3ms/step\n",
            "Epoch 17/100\n",
            "4/4 - 0s - loss: 0.3035 - accuracy: 0.9524 - 17ms/epoch - 4ms/step\n",
            "Epoch 18/100\n",
            "4/4 - 0s - loss: 0.3015 - accuracy: 0.9429 - 15ms/epoch - 4ms/step\n",
            "Epoch 19/100\n",
            "4/4 - 0s - loss: 0.2995 - accuracy: 0.9524 - 16ms/epoch - 4ms/step\n",
            "Epoch 20/100\n",
            "4/4 - 0s - loss: 0.2971 - accuracy: 0.9524 - 16ms/epoch - 4ms/step\n",
            "Epoch 21/100\n",
            "4/4 - 0s - loss: 0.2949 - accuracy: 0.9524 - 15ms/epoch - 4ms/step\n",
            "Epoch 22/100\n",
            "4/4 - 0s - loss: 0.2925 - accuracy: 0.9524 - 14ms/epoch - 3ms/step\n",
            "Epoch 23/100\n",
            "4/4 - 0s - loss: 0.2902 - accuracy: 0.9524 - 18ms/epoch - 5ms/step\n",
            "Epoch 24/100\n",
            "4/4 - 0s - loss: 0.2886 - accuracy: 0.9524 - 14ms/epoch - 4ms/step\n",
            "Epoch 25/100\n",
            "4/4 - 0s - loss: 0.2867 - accuracy: 0.9524 - 12ms/epoch - 3ms/step\n",
            "Epoch 26/100\n",
            "4/4 - 0s - loss: 0.2848 - accuracy: 0.9524 - 15ms/epoch - 4ms/step\n",
            "Epoch 27/100\n",
            "4/4 - 0s - loss: 0.2819 - accuracy: 0.9524 - 17ms/epoch - 4ms/step\n",
            "Epoch 28/100\n",
            "4/4 - 0s - loss: 0.2798 - accuracy: 0.9524 - 15ms/epoch - 4ms/step\n",
            "Epoch 29/100\n",
            "4/4 - 0s - loss: 0.2785 - accuracy: 0.9524 - 15ms/epoch - 4ms/step\n",
            "Epoch 30/100\n",
            "4/4 - 0s - loss: 0.2764 - accuracy: 0.9524 - 15ms/epoch - 4ms/step\n",
            "Epoch 31/100\n",
            "4/4 - 0s - loss: 0.2746 - accuracy: 0.9524 - 17ms/epoch - 4ms/step\n",
            "Epoch 32/100\n",
            "4/4 - 0s - loss: 0.2720 - accuracy: 0.9524 - 14ms/epoch - 3ms/step\n",
            "Epoch 33/100\n",
            "4/4 - 0s - loss: 0.2701 - accuracy: 0.9524 - 15ms/epoch - 4ms/step\n",
            "Epoch 34/100\n",
            "4/4 - 0s - loss: 0.2680 - accuracy: 0.9524 - 13ms/epoch - 3ms/step\n",
            "Epoch 35/100\n",
            "4/4 - 0s - loss: 0.2662 - accuracy: 0.9524 - 13ms/epoch - 3ms/step\n",
            "Epoch 36/100\n",
            "4/4 - 0s - loss: 0.2640 - accuracy: 0.9524 - 18ms/epoch - 4ms/step\n",
            "Epoch 37/100\n",
            "4/4 - 0s - loss: 0.2624 - accuracy: 0.9524 - 17ms/epoch - 4ms/step\n",
            "Epoch 38/100\n",
            "4/4 - 0s - loss: 0.2602 - accuracy: 0.9524 - 17ms/epoch - 4ms/step\n",
            "Epoch 39/100\n",
            "4/4 - 0s - loss: 0.2584 - accuracy: 0.9524 - 13ms/epoch - 3ms/step\n",
            "Epoch 40/100\n",
            "4/4 - 0s - loss: 0.2566 - accuracy: 0.9524 - 15ms/epoch - 4ms/step\n",
            "Epoch 41/100\n",
            "4/4 - 0s - loss: 0.2550 - accuracy: 0.9524 - 16ms/epoch - 4ms/step\n",
            "Epoch 42/100\n",
            "4/4 - 0s - loss: 0.2536 - accuracy: 0.9429 - 12ms/epoch - 3ms/step\n",
            "Epoch 43/100\n",
            "4/4 - 0s - loss: 0.2523 - accuracy: 0.9429 - 14ms/epoch - 3ms/step\n",
            "Epoch 44/100\n",
            "4/4 - 0s - loss: 0.2499 - accuracy: 0.9429 - 18ms/epoch - 4ms/step\n",
            "Epoch 45/100\n",
            "4/4 - 0s - loss: 0.2472 - accuracy: 0.9429 - 13ms/epoch - 3ms/step\n",
            "Epoch 46/100\n",
            "4/4 - 0s - loss: 0.2451 - accuracy: 0.9524 - 13ms/epoch - 3ms/step\n",
            "Epoch 47/100\n",
            "4/4 - 0s - loss: 0.2431 - accuracy: 0.9524 - 15ms/epoch - 4ms/step\n",
            "Epoch 48/100\n",
            "4/4 - 0s - loss: 0.2418 - accuracy: 0.9524 - 17ms/epoch - 4ms/step\n",
            "Epoch 49/100\n",
            "4/4 - 0s - loss: 0.2398 - accuracy: 0.9524 - 21ms/epoch - 5ms/step\n",
            "Epoch 50/100\n",
            "4/4 - 0s - loss: 0.2380 - accuracy: 0.9524 - 17ms/epoch - 4ms/step\n",
            "Epoch 51/100\n",
            "4/4 - 0s - loss: 0.2361 - accuracy: 0.9524 - 15ms/epoch - 4ms/step\n",
            "Epoch 52/100\n",
            "4/4 - 0s - loss: 0.2351 - accuracy: 0.9429 - 15ms/epoch - 4ms/step\n",
            "Epoch 53/100\n",
            "4/4 - 0s - loss: 0.2327 - accuracy: 0.9524 - 14ms/epoch - 4ms/step\n",
            "Epoch 54/100\n",
            "4/4 - 0s - loss: 0.2308 - accuracy: 0.9524 - 14ms/epoch - 4ms/step\n",
            "Epoch 55/100\n",
            "4/4 - 0s - loss: 0.2294 - accuracy: 0.9524 - 17ms/epoch - 4ms/step\n",
            "Epoch 56/100\n",
            "4/4 - 0s - loss: 0.2277 - accuracy: 0.9524 - 16ms/epoch - 4ms/step\n",
            "Epoch 57/100\n",
            "4/4 - 0s - loss: 0.2259 - accuracy: 0.9524 - 15ms/epoch - 4ms/step\n",
            "Epoch 58/100\n",
            "4/4 - 0s - loss: 0.2247 - accuracy: 0.9524 - 13ms/epoch - 3ms/step\n",
            "Epoch 59/100\n",
            "4/4 - 0s - loss: 0.2231 - accuracy: 0.9524 - 17ms/epoch - 4ms/step\n",
            "Epoch 60/100\n",
            "4/4 - 0s - loss: 0.2212 - accuracy: 0.9524 - 11ms/epoch - 3ms/step\n",
            "Epoch 61/100\n",
            "4/4 - 0s - loss: 0.2194 - accuracy: 0.9524 - 13ms/epoch - 3ms/step\n",
            "Epoch 62/100\n",
            "4/4 - 0s - loss: 0.2187 - accuracy: 0.9429 - 18ms/epoch - 4ms/step\n",
            "Epoch 63/100\n",
            "4/4 - 0s - loss: 0.2169 - accuracy: 0.9429 - 16ms/epoch - 4ms/step\n",
            "Epoch 64/100\n",
            "4/4 - 0s - loss: 0.2156 - accuracy: 0.9429 - 15ms/epoch - 4ms/step\n",
            "Epoch 65/100\n",
            "4/4 - 0s - loss: 0.2139 - accuracy: 0.9429 - 12ms/epoch - 3ms/step\n",
            "Epoch 66/100\n",
            "4/4 - 0s - loss: 0.2119 - accuracy: 0.9429 - 16ms/epoch - 4ms/step\n",
            "Epoch 67/100\n",
            "4/4 - 0s - loss: 0.2103 - accuracy: 0.9524 - 14ms/epoch - 4ms/step\n",
            "Epoch 68/100\n",
            "4/4 - 0s - loss: 0.2088 - accuracy: 0.9524 - 15ms/epoch - 4ms/step\n",
            "Epoch 69/100\n",
            "4/4 - 0s - loss: 0.2078 - accuracy: 0.9524 - 15ms/epoch - 4ms/step\n",
            "Epoch 70/100\n",
            "4/4 - 0s - loss: 0.2059 - accuracy: 0.9524 - 14ms/epoch - 3ms/step\n",
            "Epoch 71/100\n",
            "4/4 - 0s - loss: 0.2044 - accuracy: 0.9524 - 13ms/epoch - 3ms/step\n",
            "Epoch 72/100\n",
            "4/4 - 0s - loss: 0.2035 - accuracy: 0.9524 - 14ms/epoch - 4ms/step\n",
            "Epoch 73/100\n",
            "4/4 - 0s - loss: 0.2019 - accuracy: 0.9524 - 15ms/epoch - 4ms/step\n",
            "Epoch 74/100\n",
            "4/4 - 0s - loss: 0.2001 - accuracy: 0.9524 - 14ms/epoch - 3ms/step\n",
            "Epoch 75/100\n",
            "4/4 - 0s - loss: 0.1989 - accuracy: 0.9524 - 14ms/epoch - 3ms/step\n",
            "Epoch 76/100\n",
            "4/4 - 0s - loss: 0.1974 - accuracy: 0.9524 - 17ms/epoch - 4ms/step\n",
            "Epoch 77/100\n",
            "4/4 - 0s - loss: 0.1966 - accuracy: 0.9429 - 22ms/epoch - 6ms/step\n",
            "Epoch 78/100\n",
            "4/4 - 0s - loss: 0.1953 - accuracy: 0.9429 - 14ms/epoch - 4ms/step\n",
            "Epoch 79/100\n",
            "4/4 - 0s - loss: 0.1938 - accuracy: 0.9524 - 16ms/epoch - 4ms/step\n",
            "Epoch 80/100\n",
            "4/4 - 0s - loss: 0.1923 - accuracy: 0.9524 - 13ms/epoch - 3ms/step\n",
            "Epoch 81/100\n",
            "4/4 - 0s - loss: 0.1912 - accuracy: 0.9524 - 12ms/epoch - 3ms/step\n",
            "Epoch 82/100\n",
            "4/4 - 0s - loss: 0.1907 - accuracy: 0.9524 - 13ms/epoch - 3ms/step\n",
            "Epoch 83/100\n",
            "4/4 - 0s - loss: 0.1893 - accuracy: 0.9524 - 12ms/epoch - 3ms/step\n",
            "Epoch 84/100\n",
            "4/4 - 0s - loss: 0.1890 - accuracy: 0.9619 - 12ms/epoch - 3ms/step\n",
            "Epoch 85/100\n",
            "4/4 - 0s - loss: 0.1875 - accuracy: 0.9619 - 13ms/epoch - 3ms/step\n",
            "Epoch 86/100\n",
            "4/4 - 0s - loss: 0.1862 - accuracy: 0.9524 - 12ms/epoch - 3ms/step\n",
            "Epoch 87/100\n",
            "4/4 - 0s - loss: 0.1846 - accuracy: 0.9524 - 13ms/epoch - 3ms/step\n",
            "Epoch 88/100\n",
            "4/4 - 0s - loss: 0.1834 - accuracy: 0.9429 - 13ms/epoch - 3ms/step\n",
            "Epoch 89/100\n",
            "4/4 - 0s - loss: 0.1825 - accuracy: 0.9524 - 12ms/epoch - 3ms/step\n",
            "Epoch 90/100\n",
            "4/4 - 0s - loss: 0.1809 - accuracy: 0.9524 - 15ms/epoch - 4ms/step\n",
            "Epoch 91/100\n",
            "4/4 - 0s - loss: 0.1796 - accuracy: 0.9429 - 19ms/epoch - 5ms/step\n",
            "Epoch 92/100\n",
            "4/4 - 0s - loss: 0.1788 - accuracy: 0.9524 - 13ms/epoch - 3ms/step\n",
            "Epoch 93/100\n",
            "4/4 - 0s - loss: 0.1771 - accuracy: 0.9524 - 13ms/epoch - 3ms/step\n",
            "Epoch 94/100\n",
            "4/4 - 0s - loss: 0.1768 - accuracy: 0.9524 - 11ms/epoch - 3ms/step\n",
            "Epoch 95/100\n",
            "4/4 - 0s - loss: 0.1756 - accuracy: 0.9524 - 15ms/epoch - 4ms/step\n",
            "Epoch 96/100\n",
            "4/4 - 0s - loss: 0.1747 - accuracy: 0.9524 - 11ms/epoch - 3ms/step\n",
            "Epoch 97/100\n",
            "4/4 - 0s - loss: 0.1731 - accuracy: 0.9524 - 12ms/epoch - 3ms/step\n",
            "Epoch 98/100\n",
            "4/4 - 0s - loss: 0.1726 - accuracy: 0.9524 - 16ms/epoch - 4ms/step\n",
            "Epoch 99/100\n",
            "4/4 - 0s - loss: 0.1709 - accuracy: 0.9524 - 13ms/epoch - 3ms/step\n",
            "Epoch 100/100\n",
            "4/4 - 0s - loss: 0.1700 - accuracy: 0.9524 - 13ms/epoch - 3ms/step\n"
          ]
        },
        {
          "output_type": "execute_result",
          "data": {
            "text/plain": [
              "<keras.callbacks.History at 0x7f4916b9a7c0>"
            ]
          },
          "metadata": {},
          "execution_count": 42
        }
      ]
    },
    {
      "cell_type": "code",
      "source": [
        "scaled_X_test"
      ],
      "metadata": {
        "colab": {
          "base_uri": "https://localhost:8080/"
        },
        "id": "hMrqCTvcn5o1",
        "outputId": "da59a7cb-76f2-41c7-ee1c-8235967fa587"
      },
      "execution_count": 43,
      "outputs": [
        {
          "output_type": "execute_result",
          "data": {
            "text/plain": [
              "array([[ 0.52941176,  0.36363636,  0.64285714,  0.45833333],\n",
              "       [ 0.41176471,  0.81818182,  0.10714286,  0.08333333],\n",
              "       [ 1.        ,  0.27272727,  1.03571429,  0.91666667],\n",
              "       [ 0.5       ,  0.40909091,  0.60714286,  0.58333333],\n",
              "       [ 0.73529412,  0.36363636,  0.66071429,  0.54166667],\n",
              "       [ 0.32352941,  0.63636364,  0.07142857,  0.125     ],\n",
              "       [ 0.38235294,  0.40909091,  0.44642857,  0.5       ],\n",
              "       [ 0.76470588,  0.5       ,  0.71428571,  0.91666667],\n",
              "       [ 0.55882353,  0.09090909,  0.60714286,  0.58333333],\n",
              "       [ 0.44117647,  0.31818182,  0.5       ,  0.45833333],\n",
              "       [ 0.64705882,  0.54545455,  0.71428571,  0.79166667],\n",
              "       [ 0.14705882,  0.45454545,  0.05357143,  0.        ],\n",
              "       [ 0.35294118,  0.68181818,  0.03571429,  0.04166667],\n",
              "       [ 0.17647059,  0.5       ,  0.07142857,  0.        ],\n",
              "       [ 0.23529412,  0.81818182,  0.07142857,  0.08333333],\n",
              "       [ 0.58823529,  0.59090909,  0.64285714,  0.625     ],\n",
              "       [ 0.64705882,  0.45454545,  0.83928571,  0.875     ],\n",
              "       [ 0.38235294,  0.22727273,  0.5       ,  0.41666667],\n",
              "       [ 0.41176471,  0.36363636,  0.60714286,  0.5       ],\n",
              "       [ 0.61764706,  0.36363636,  0.80357143,  0.875     ],\n",
              "       [ 0.11764706,  0.54545455,  0.08928571,  0.04166667],\n",
              "       [ 0.52941176,  0.45454545,  0.67857143,  0.70833333],\n",
              "       [ 0.20588235,  0.63636364,  0.08928571,  0.125     ],\n",
              "       [ 0.61764706,  0.36363636,  0.80357143,  0.83333333],\n",
              "       [ 1.05882353,  0.81818182,  0.94642857,  0.79166667],\n",
              "       [ 0.70588235,  0.45454545,  0.73214286,  0.91666667],\n",
              "       [ 0.70588235,  0.22727273,  0.83928571,  0.70833333],\n",
              "       [ 0.73529412,  0.54545455,  0.85714286,  0.91666667],\n",
              "       [ 0.14705882,  0.45454545,  0.05357143,  0.08333333],\n",
              "       [ 0.14705882,  0.5       ,  0.08928571,  0.04166667],\n",
              "       [ 0.08823529,  0.72727273, -0.01785714,  0.04166667],\n",
              "       [ 0.41176471,  1.09090909,  0.07142857,  0.125     ],\n",
              "       [ 0.70588235,  0.5       ,  0.58928571,  0.54166667],\n",
              "       [ 0.14705882,  0.63636364,  0.08928571,  0.04166667],\n",
              "       [ 0.02941176,  0.54545455,  0.03571429,  0.04166667],\n",
              "       [ 0.58823529,  0.22727273,  0.69642857,  0.75      ],\n",
              "       [ 0.61764706,  0.54545455,  0.60714286,  0.58333333],\n",
              "       [ 0.26470588,  0.68181818,  0.07142857,  0.04166667],\n",
              "       [ 0.20588235,  0.72727273,  0.05357143,  0.04166667],\n",
              "       [ 0.26470588,  0.95454545,  0.07142857,  0.        ],\n",
              "       [ 0.44117647,  0.31818182,  0.71428571,  0.75      ],\n",
              "       [ 0.5       ,  0.63636364,  0.60714286,  0.625     ],\n",
              "       [ 0.70588235,  0.5       ,  0.64285714,  0.58333333],\n",
              "       [ 0.32352941,  0.86363636,  0.03571429,  0.125     ],\n",
              "       [ 0.32352941,  0.77272727,  0.07142857,  0.04166667]])"
            ]
          },
          "metadata": {},
          "execution_count": 43
        }
      ]
    },
    {
      "cell_type": "code",
      "source": [
        "predict=model.predict(scaled_X_test) \n",
        "predictions=np.argmax(predict,axis=1)\n",
        "predictions"
      ],
      "metadata": {
        "colab": {
          "base_uri": "https://localhost:8080/"
        },
        "id": "PPATerOioOqo",
        "outputId": "3a43efd6-ecab-405b-d540-ea971f9aedfa"
      },
      "execution_count": 44,
      "outputs": [
        {
          "output_type": "stream",
          "name": "stdout",
          "text": [
            "2/2 [==============================] - 0s 6ms/step\n"
          ]
        },
        {
          "output_type": "execute_result",
          "data": {
            "text/plain": [
              "array([1, 0, 2, 1, 1, 0, 1, 2, 2, 1, 2, 0, 0, 0, 0, 1, 2, 1, 1, 2, 0, 2,\n",
              "       0, 2, 2, 2, 2, 2, 0, 0, 0, 0, 1, 0, 0, 2, 1, 0, 0, 0, 2, 1, 1, 0,\n",
              "       0])"
            ]
          },
          "metadata": {},
          "execution_count": 44
        }
      ]
    },
    {
      "cell_type": "code",
      "source": [
        "#converting y_test in predicted y format\n",
        "test_y = y_test.argmax(axis=1)"
      ],
      "metadata": {
        "id": "8qS0KJbRoY36"
      },
      "execution_count": 46,
      "outputs": []
    },
    {
      "cell_type": "code",
      "source": [
        "from sklearn.metrics import confusion_matrix, classification_report, accuracy_score"
      ],
      "metadata": {
        "id": "QRrpdtE2qJFz"
      },
      "execution_count": 47,
      "outputs": []
    },
    {
      "cell_type": "code",
      "source": [
        "confusion_matrix(test_y,predictions)"
      ],
      "metadata": {
        "colab": {
          "base_uri": "https://localhost:8080/"
        },
        "id": "leyYh3Y2qhj0",
        "outputId": "3ce0a767-7df9-482d-e194-b3bf9a31e453"
      },
      "execution_count": 48,
      "outputs": [
        {
          "output_type": "execute_result",
          "data": {
            "text/plain": [
              "array([[19,  0,  0],\n",
              "       [ 0, 12,  1],\n",
              "       [ 0,  0, 13]])"
            ]
          },
          "metadata": {},
          "execution_count": 48
        }
      ]
    },
    {
      "cell_type": "code",
      "source": [
        "print(classification_report(test_y,predictions))"
      ],
      "metadata": {
        "colab": {
          "base_uri": "https://localhost:8080/"
        },
        "id": "sPdg-MAzqwNw",
        "outputId": "5d041320-5b38-4f84-da37-2bb97258937f"
      },
      "execution_count": 49,
      "outputs": [
        {
          "output_type": "stream",
          "name": "stdout",
          "text": [
            "              precision    recall  f1-score   support\n",
            "\n",
            "           0       1.00      1.00      1.00        19\n",
            "           1       1.00      0.92      0.96        13\n",
            "           2       0.93      1.00      0.96        13\n",
            "\n",
            "    accuracy                           0.98        45\n",
            "   macro avg       0.98      0.97      0.97        45\n",
            "weighted avg       0.98      0.98      0.98        45\n",
            "\n"
          ]
        }
      ]
    },
    {
      "cell_type": "code",
      "source": [
        "accuracy_score(test_y,predictions)"
      ],
      "metadata": {
        "colab": {
          "base_uri": "https://localhost:8080/"
        },
        "id": "6AH81akMq_VG",
        "outputId": "d98e1474-6e65-4ce2-d04b-f01ba787746a"
      },
      "execution_count": 50,
      "outputs": [
        {
          "output_type": "execute_result",
          "data": {
            "text/plain": [
              "0.9777777777777777"
            ]
          },
          "metadata": {},
          "execution_count": 50
        }
      ]
    },
    {
      "cell_type": "code",
      "source": [],
      "metadata": {
        "id": "Smucd1nwrLXO"
      },
      "execution_count": null,
      "outputs": []
    }
  ]
}